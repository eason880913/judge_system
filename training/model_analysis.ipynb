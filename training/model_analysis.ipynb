{
 "cells": [
  {
   "cell_type": "code",
   "execution_count": 2,
   "metadata": {},
   "outputs": [],
   "source": [
    "\"\"\"Evaluate best trained checkpoint on dev set in NEWS\"\"\"\n",
    "import os, sys\n",
    "import ujson as json\n",
    "import numpy as np\n",
    "import matplotlib.pyplot as plt\n",
    "import seaborn as sns\n",
    "import torch\n",
    "import torch.nn as nn\n",
    "import torch.utils.data as data\n",
    "import torchvision.transforms as transforms\n",
    "import utils\n",
    "import train\n",
    "import re\n",
    "from sklearn.metrics import confusion_matrix\n",
    "from sklearn.manifold import TSNE\n",
    "from tqdm import tqdm\n",
    "from transformers import DistilBertModel, AlbertModel\n",
    "from args import get_train_args\n",
    "from models import DistilBERT, ALBERT\n",
    "from utils import NEWS, collate_fn\n",
    "\n",
    "%load_ext autoreload\n",
    "%autoreload 2"
   ]
  },
  {
   "cell_type": "code",
   "execution_count": 2,
   "metadata": {},
   "outputs": [],
   "source": [
    "\"\"\"Utility methods\"\"\"\n",
    "def get_model(args, device):\n",
    "    if args.name == 'DistilBERT':\n",
    "        model = DistilBERT\n",
    "    elif args.name == 'ALBERT':\n",
    "        model = ALBERT\n",
    "        \n",
    "    model = model(args.hidden_size, args.num_labels,\n",
    "                  drop_prob=args.drop_prob,\n",
    "                  freeze=args.freeze,\n",
    "                  use_img=args.use_img,\n",
    "                  img_size=args.img_size)\n",
    "    model = nn.DataParallel(model, args.gpu_ids)\n",
    "    model = model.to(device)\n",
    "    \n",
    "    return model\n",
    "\n",
    "def get_data_loader(args, record_file):\n",
    "    transform = transforms.Compose([transforms.Resize((224, 224)),\n",
    "                                    transforms.ToTensor(),\n",
    "                                    transforms.Normalize(mean=[0.485, 0.456, 0.406],\n",
    "                                                         std=[0.229, 0.224, 0.225])])\n",
    "    dataset = NEWS(record_file, transform=transform)\n",
    "    data_loader = data.DataLoader(dataset,\n",
    "                                  batch_size=args.batch_size,\n",
    "                                  shuffle=False,\n",
    "                                  num_workers=args.num_workers,\n",
    "                                  collate_fn=collate_fn)\n",
    "    \n",
    "    return data_loader"
   ]
  },
  {
   "cell_type": "code",
   "execution_count": 28,
   "metadata": {
    "scrolled": true
   },
   "outputs": [
    {
     "name": "stderr",
     "output_type": "stream",
     "text": [
      "All TF 2.0 model weights were used when initializing DistilBertModel.\n",
      "\n",
      "All the weights of DistilBertModel were initialized from the TF 2.0 model.\n",
      "If your task is similar to the task the model of the checkpoint was trained on, you can already use DistilBertModel for predictions without further training.\n",
      "100%|██████████| 553/553 [06:08<00:00,  1.50it/s, NLL=5.77]"
     ]
    },
    {
     "name": "stdout",
     "output_type": "stream",
     "text": [
      "DistilBERT-01: F1 100.00,F2 75.00,F3 100.00,F4 100.00\n"
     ]
    },
    {
     "name": "stderr",
     "output_type": "stream",
     "text": [
      "\n"
     ]
    }
   ],
   "source": [
    "\"\"\"Get F1 score of a model\"\"\"\n",
    "def get_models_F1(args):\n",
    "    device, args.gpu_ids = utils.get_available_devices()\n",
    "\n",
    "    model = get_model(args, device)\n",
    "    data_loader = get_data_loader(args, args.dev_record_file)\n",
    "    \n",
    "    base_dir = './save/train/'\n",
    "    for ckpt_dir in os.listdir(base_dir):\n",
    "        if args.name in ckpt_dir:\n",
    "            checkpoint_path = os.path.join(base_dir, ckpt_dir, 'best.pth.tar')\n",
    "            ckpt_dict = torch.load(checkpoint_path, map_location=device)\n",
    "            \n",
    "            # Build model, load parameters\n",
    "            model.load_state_dict(ckpt_dict['model_state'])\n",
    "            \n",
    "            # Evaluate\n",
    "            results, pred_dict= train.evaluate(model, data_loader, device)\n",
    "            print(f'{ckpt_dir}: F1 {results[\"F1\"]:.2f},F2 {results[\"F2\"]:.2f},F3 {results[\"F3\"]:.2f},F4 {results[\"F4\"]:.2f}')\n",
    "\n",
    "name = 'DistilBERT'\n",
    "use_img = 'False'\n",
    "dev_record_file = './data/dev.npz'\n",
    "batch_size = '8'\n",
    "sys.argv = ['args.py', '--name', name,\n",
    "            '--use_img', use_img,\n",
    "            '--dev_record_file', dev_record_file,\n",
    "            '--batch_size', batch_size]\n",
    "get_models_F1(get_train_args())"
   ]
  },
  {
   "cell_type": "code",
   "execution_count": 14,
   "metadata": {},
   "outputs": [
    {
     "name": "stderr",
     "output_type": "stream",
     "text": [
      "All TF 2.0 model weights were used when initializing DistilBertModel.\n",
      "\n",
      "All the weights of DistilBertModel were initialized from the TF 2.0 model.\n",
      "If your task is similar to the task the model of the checkpoint was trained on, you can already use DistilBertModel for predictions without further training.\n",
      "100%|██████████| 128/128 [01:37<00:00,  1.32it/s, NLL=77.9]\n"
     ]
    },
    {
     "name": "stdout",
     "output_type": "stream",
     "text": [
      "DistilBERT-01: F1 93.75,F2 91.41,F3 85.16,F4 99.22\n",
      "128\n"
     ]
    },
    {
     "data": {
      "image/png": "[encoded data removed]",
      "text/plain": [
       "<Figure size 720x504 with 2 Axes>"
      ]
     },
     "metadata": {},
     "output_type": "display_data"
    }
   ],
   "source": [
    "\"\"\"Analyze model with confusion matrix then print out the incorrect predictions\"\"\"\n",
    "def model_predict(args, ckpt_dir, record_file):\n",
    "    # Set up device, model, data_loader\n",
    "    device, args.gpu_ids = utils.get_available_devices()\n",
    "    model = get_model(args, device)\n",
    "    data_loader = get_data_loader(args, record_file)\n",
    "    \n",
    "    # load model\n",
    "    ckpt_path = os.path.join(args.save_dir, 'train', ckpt_dir, 'best.pth.tar')\n",
    "    ckpt_dict = torch.load(ckpt_path, map_location=device)\n",
    "    model.load_state_dict(ckpt_dict['model_state'])\n",
    "            \n",
    "    # Evaluate\n",
    "    results, pred_dict = train.evaluate(model, data_loader, device)\n",
    "    print(f'{ckpt_dir}: F1 {results[\"F1\"]:.2f},F2 {results[\"F2\"]:.2f},F3 {results[\"F3\"]:.2f},F4 {results[\"F4\"]:.2f}')\n",
    "\n",
    "    return pred_dict\n",
    "\n",
    "def plot_confusion_matrix(pred_dict):\n",
    "    y_pred = []\n",
    "    y_true = []\n",
    "    print(len(pred_dict))\n",
    "    for value in pred_dict.values():\n",
    "        pred = [str(x) for x in value[0]]\n",
    "        label = [re.sub('.0','',str(x)) for x in value[1]]\n",
    "        for i in range(3,4):\n",
    "            y_pred.append(pred[i])\n",
    "            y_true.append(label[i])\n",
    "#     print(y_pred, y_true)\n",
    "#     y_pred, y_true =  zip(*pred_dict.values())\n",
    "    cm = confusion_matrix(y_true, y_pred)\n",
    "    with open('./data/cat2idx.json', 'r') as fh:\n",
    "        cat2idx = json.load(fh)\n",
    "    labels = [label[0] for label in sorted(cat2idx.items(), key=lambda x: x[1])]\n",
    "#     print(labels)\n",
    "    sns.set(font_scale=3)\n",
    "    sns.heatmap(cm, annot=True)\n",
    "    plt.show()\n",
    "    \n",
    "    return cat2idx\n",
    "\n",
    "def print_wrong_pred(pred_dict):\n",
    "    incorrect_idxs = [idx for idx, result in pred_dict.items() if result[0] != result[1]]\n",
    "    idx2cat = {idx: cat for cat, idx in cat2idx.items()}\n",
    "\n",
    "    for idx in incorrect_idxs:\n",
    "        pred_label = idx2cat[pred_dict[idx][0]]\n",
    "        true_label = idx2cat[pred_dict[idx][1]]\n",
    "        print(f'{idx:4d} prediction: {pred_label:10s} true: {true_label:10s}')\n",
    "\n",
    "name = 'DistilBERT'\n",
    "use_img = 'False'\n",
    "record_file = './data/test.npz'\n",
    "sys.argv = ['args.py', '--name', name,\n",
    "            '--use_img', use_img]\n",
    "ckpt_dir = 'DistilBERT-01'\n",
    "pred_dict = model_predict(get_train_args(), ckpt_dir, record_file)\n",
    "cat2idx = plot_confusion_matrix(pred_dict)\n",
    "# print_wrong_pred(pred_dict)"
   ]
  },
  {
   "cell_type": "code",
   "execution_count": 24,
   "metadata": {},
   "outputs": [
    {
     "name": "stdout",
     "output_type": "stream",
     "text": [
      "[[ 1.1581608 -1.0071534]]\n",
      "[[ 1.9931258 -1.7362273]]\n",
      "[[ 1.9931257 -1.736227 ]\n",
      " [ 1.1581608 -1.0071535]]\n",
      "[[ 1.1581608 -1.0071534]\n",
      " [ 1.9931257 -1.7362272]\n",
      " [ 1.1581608 -1.0071534]\n",
      " [ 1.9931257 -1.7362272]]\n",
      "[[ 1.4969848 -1.3257985]\n",
      " [ 1.5883845 -1.357199 ]\n",
      " [ 1.4969848 -1.3257985]\n",
      " [ 1.5883845 -1.357199 ]\n",
      " [ 1.4969848 -1.3257985]\n",
      " [ 1.5883845 -1.357199 ]]\n"
     ]
    },
    {
     "data": {
      "application/vnd.jupyter.widget-view+json": {
       "model_id": "",
       "version_major": 2,
       "version_minor": 0
      },
      "text/plain": [
       "HBox(children=(IntProgress(value=0, max=48), HTML(value='')))"
      ]
     },
     "metadata": {},
     "output_type": "display_data"
    },
    {
     "name": "stdout",
     "output_type": "stream",
     "text": [
      "[[ 1.4969848 -1.3257985]\n",
      " [ 1.5883845 -1.357199 ]\n",
      " [ 1.6701291 -1.4708681]\n",
      " [ 1.8342867 -1.5993218]\n",
      " [ 1.6701291 -1.4708681]\n",
      " [ 1.8342867 -1.5993218]]\n",
      "[[ 1.6701291  -1.4708681 ]\n",
      " [ 1.8342867  -1.5993218 ]\n",
      " [ 1.6701291  -1.4708681 ]\n",
      " [ 1.8342867  -1.5993218 ]\n",
      " [ 2.0232184  -1.7577533 ]\n",
      " [ 0.33145046 -0.11604249]]\n",
      "[[ 1.4641972  -1.2534423 ]\n",
      " [ 1.5461669  -1.278065  ]\n",
      " [ 0.81330466 -0.56742364]\n",
      " [ 1.7645812  -1.518823  ]\n",
      " [ 2.0232184  -1.7577533 ]\n",
      " [ 0.33145046 -0.11604249]]\n",
      "[[ 1.4641972  -1.2534423 ]\n",
      " [ 1.5461669  -1.278065  ]\n",
      " [ 0.81330466 -0.56742364]\n",
      " [ 1.7645812  -1.518823  ]\n",
      " [ 2.0232184  -1.7577533 ]\n",
      " [ 0.33145046 -0.11604249]]\n",
      "[[ 1.4641972  -1.2534423 ]\n",
      " [ 1.5461669  -1.278065  ]\n",
      " [ 0.81330466 -0.56742364]\n",
      " [ 1.7645812  -1.518823  ]\n",
      " [ 2.0232184  -1.7577533 ]\n",
      " [ 0.33145046 -0.11604249]]\n"
     ]
    },
    {
     "name": "stderr",
     "output_type": "stream",
     "text": [
      "\n",
      "\n",
      "Partition explainer:  50%|█████     | 1/2 [00:00<?, ?it/s]\u001b[A\u001b[AToken indices sequence length is longer than the specified maximum sequence length for this model (559 > 512). Running this sequence through the model will result in indexing errors\n"
     ]
    },
    {
     "name": "stdout",
     "output_type": "stream",
     "text": [
      "[[ 1.4641972  -1.2534423 ]\n",
      " [ 1.5461669  -1.278065  ]\n",
      " [ 0.81330466 -0.56742364]\n",
      " [ 1.7645812  -1.518823  ]\n",
      " [ 1.4161866  -1.2314057 ]\n",
      " [ 1.4621422  -1.2351356 ]]\n",
      "[[ 0.36843094 -0.35418862]]\n",
      "[[ 2.2542    -1.8741273]]\n",
      "[[ 2.2542     -1.8741274 ]\n",
      " [ 0.3684309  -0.35418862]]\n",
      "[[ 0.3684309  -0.35418862]\n",
      " [ 2.2542     -1.8741273 ]\n",
      " [ 0.3684309  -0.35418862]\n",
      " [ 2.2542     -1.8741273 ]]\n",
      "[[ 0.99158204 -0.760075  ]\n",
      " [ 2.0568962  -1.7740388 ]\n",
      " [ 0.99158204 -0.760075  ]\n",
      " [ 2.0568962  -1.7740388 ]\n",
      " [ 0.99158204 -0.760075  ]\n",
      " [ 2.0568962  -1.7740388 ]]\n"
     ]
    },
    {
     "data": {
      "application/vnd.jupyter.widget-view+json": {
       "model_id": "",
       "version_major": 2,
       "version_minor": 0
      },
      "text/plain": [
       "HBox(children=(IntProgress(value=0, max=48), HTML(value='')))"
      ]
     },
     "metadata": {},
     "output_type": "display_data"
    },
    {
     "name": "stdout",
     "output_type": "stream",
     "text": [
      "[[ 0.99158204 -0.760075  ]\n",
      " [ 2.0568962  -1.7740388 ]\n",
      " [ 2.654239   -2.3010106 ]\n",
      " [-0.23358597  0.24127129]\n",
      " [ 2.654239   -2.3010106 ]\n",
      " [-0.23358597  0.24127129]]\n",
      "[[ 2.654239   -2.3010106 ]\n",
      " [-0.23358597  0.24127129]\n",
      " [ 2.654239   -2.3010106 ]\n",
      " [-0.23358597  0.24127129]\n",
      " [ 2.8664317  -2.4612064 ]\n",
      " [-2.2266774   2.2210822 ]]\n",
      "[[-1.8580341   1.8559542 ]\n",
      " [ 1.5332568  -1.2625213 ]\n",
      " [-2.2266774   2.2210822 ]\n",
      " [ 0.99158204 -0.760075  ]\n",
      " [ 2.8664317  -2.4612064 ]\n",
      " [-2.2266774   2.2210822 ]]\n",
      "[[-1.8580341   1.8559542 ]\n",
      " [ 1.5332568  -1.2625213 ]\n",
      " [-2.2266774   2.2210822 ]\n",
      " [ 0.99158204 -0.760075  ]\n",
      " [ 2.8664317  -2.4612064 ]\n",
      " [-2.2266774   2.2210822 ]]\n",
      "[[-1.8580341   1.8559542 ]\n",
      " [ 1.5332568  -1.2625213 ]\n",
      " [-2.2266774   2.2210822 ]\n",
      " [ 0.99158204 -0.760075  ]\n",
      " [ 2.8664317  -2.4612064 ]\n",
      " [-2.2266774   2.2210822 ]]\n"
     ]
    },
    {
     "name": "stderr",
     "output_type": "stream",
     "text": [
      "\n",
      "\n",
      "Partition explainer: 3it [01:09, 17.37s/it]               \u001b[A\u001b[A"
     ]
    },
    {
     "name": "stdout",
     "output_type": "stream",
     "text": [
      "[[-1.8580341   1.8559542 ]\n",
      " [ 1.5332568  -1.2625213 ]\n",
      " [-2.2266774   2.2210822 ]\n",
      " [ 0.99158204 -0.760075  ]\n",
      " [-0.9361367   0.96775883]\n",
      " [ 1.7137575  -1.5048152 ]]\n",
      "[[ 1.1689717 -1.0154146]]\n",
      "[[-2.0823581  2.2645407]]\n",
      "[[-2.0823581  2.2645402]\n",
      " [ 1.1689717 -1.0154147]]\n",
      "[[ 1.1689717 -1.0154147]\n",
      " [-2.0823584  2.2645402]\n",
      " [ 1.1689717 -1.0154147]\n",
      " [-2.0823584  2.2645402]]\n",
      "[[-2.217577   2.3834472]\n",
      " [ 1.0078933 -0.8074271]\n",
      " [-2.217577   2.3834472]\n",
      " [ 1.0078933 -0.8074271]\n",
      " [-2.217577   2.3834472]\n",
      " [ 1.0078933 -0.8074271]]\n"
     ]
    },
    {
     "data": {
      "application/vnd.jupyter.widget-view+json": {
       "model_id": "",
       "version_major": 2,
       "version_minor": 0
      },
      "text/plain": [
       "HBox(children=(IntProgress(value=0, max=48), HTML(value='')))"
      ]
     },
     "metadata": {},
     "output_type": "display_data"
    },
    {
     "name": "stdout",
     "output_type": "stream",
     "text": [
      "[[-2.217577   2.3834472]\n",
      " [ 1.0078933 -0.8074271]\n",
      " [-1.565408   1.6523247]\n",
      " [-1.7126877  1.8275402]\n",
      " [-1.565408   1.6523247]\n",
      " [-1.7126877  1.8275402]]\n",
      "[[-1.565408   1.6523247]\n",
      " [-1.7126877  1.8275402]\n",
      " [-1.565408   1.6523247]\n",
      " [-1.7126877  1.8275402]\n",
      " [-0.9762202  1.1699392]\n",
      " [-1.497741   1.6733856]]\n",
      "[[-0.9762202  1.1699392]\n",
      " [-1.497741   1.6733856]\n",
      " [-0.9762202  1.1699392]\n",
      " [-1.497741   1.6733856]\n",
      " [-0.9762202  1.1699392]\n",
      " [-1.497741   1.6733856]]\n",
      "[[-1.8122176  1.9070859]\n",
      " [ 1.934398  -1.6950575]\n",
      " [-1.8122176  1.9070859]\n",
      " [ 1.934398  -1.6950575]\n",
      " [-1.8122176  1.9070859]\n",
      " [ 1.934398  -1.6950575]]\n",
      "[[-1.8122176   1.9070859 ]\n",
      " [ 1.934398   -1.6950575 ]\n",
      " [ 0.03365061  0.19559185]\n",
      " [-0.0036221   0.10759099]\n",
      " [ 0.03365061  0.19559185]\n",
      " [-0.0036221   0.10759099]]\n"
     ]
    },
    {
     "name": "stderr",
     "output_type": "stream",
     "text": [
      "\n",
      "\n",
      "Partition explainer: 4it [01:42, 22.13s/it]\u001b[A\u001b[A"
     ]
    },
    {
     "name": "stdout",
     "output_type": "stream",
     "text": [
      "[[ 0.03365061  0.19559185]\n",
      " [-0.0036221   0.10759099]\n",
      " [ 0.03365061  0.19559185]\n",
      " [-0.0036221   0.10759099]\n",
      " [-1.6075231   1.773694  ]\n",
      " [ 1.5166748  -1.2596145 ]]\n",
      "[[ 1.1631793 -1.0081167]]\n",
      "[[-1.7696034  1.8637645]]\n",
      "[[-1.7696033  1.8637648]\n",
      " [ 1.1631793 -1.0081167]]\n",
      "[[ 1.1631793 -1.0081168]\n",
      " [-1.7696034  1.8637645]\n",
      " [ 1.1631793 -1.0081168]\n",
      " [-1.7696034  1.8637645]]\n",
      "[[ 2.2971587 -1.9910022]\n",
      " [-2.2024899  2.3030362]\n",
      " [ 2.2971587 -1.9910022]\n",
      " [-2.2024899  2.3030362]\n",
      " [ 2.2971587 -1.9910022]\n",
      " [-2.2024899  2.3030362]]\n"
     ]
    },
    {
     "data": {
      "application/vnd.jupyter.widget-view+json": {
       "model_id": "",
       "version_major": 2,
       "version_minor": 0
      },
      "text/plain": [
       "HBox(children=(IntProgress(value=0, max=48), HTML(value='')))"
      ]
     },
     "metadata": {},
     "output_type": "display_data"
    },
    {
     "name": "stdout",
     "output_type": "stream",
     "text": [
      "[[ 2.2971587 -1.9910022]\n",
      " [-2.2024899  2.3030362]\n",
      " [-2.053895   2.1327844]\n",
      " [ 2.6409667 -2.2728438]\n",
      " [-2.053895   2.1327844]\n",
      " [ 2.6409667 -2.2728438]]\n",
      "[[-2.053895   2.1327844]\n",
      " [ 2.6409667 -2.2728438]\n",
      " [-2.053895   2.1327844]\n",
      " [ 2.6409667 -2.2728438]\n",
      " [-2.3169572  2.42788  ]\n",
      " [ 1.7285892 -1.5143467]]\n",
      "[[-2.3169572  2.42788  ]\n",
      " [ 1.7285892 -1.5143467]\n",
      " [-2.3169572  2.42788  ]\n",
      " [ 1.7285892 -1.5143467]\n",
      " [-2.3169572  2.42788  ]\n",
      " [ 1.7285892 -1.5143467]]\n",
      "[[-0.728737   0.8605795]\n",
      " [-0.6278561  0.7993096]\n",
      " [-0.728737   0.8605795]\n",
      " [-0.6278561  0.7993096]\n",
      " [-0.728737   0.8605795]\n",
      " [-0.6278561  0.7993096]]\n",
      "[[-0.728737   0.8605795]\n",
      " [-0.6278561  0.7993096]\n",
      " [-1.1675324  1.2583821]\n",
      " [-1.3716292  1.4708426]\n",
      " [-1.1675324  1.2583821]\n",
      " [-1.3716292  1.4708426]]\n"
     ]
    },
    {
     "name": "stderr",
     "output_type": "stream",
     "text": [
      "\n",
      "\n",
      "Partition explainer: 5it [02:18, 26.03s/it]\u001b[A\u001b[A"
     ]
    },
    {
     "name": "stdout",
     "output_type": "stream",
     "text": [
      "[[-1.1675324  1.2583821]\n",
      " [-1.3716292  1.4708426]\n",
      " [-1.1675324  1.2583821]\n",
      " [-1.3716292  1.4708426]\n",
      " [-1.5015553  1.5701268]\n",
      " [-1.7730889  1.8961885]]\n",
      "[[ 1.1586641 -1.0047336]]\n",
      "[[-0.6771175  0.8723309]]\n",
      "[[-0.6771175   0.87233084]\n",
      " [ 1.158664   -1.0047333 ]]\n",
      "[[ 1.1586641 -1.0047336]\n",
      " [-0.6771176  0.8723309]\n",
      " [ 1.1586641 -1.0047336]\n",
      " [-0.6771176  0.8723309]]\n",
      "[[ 1.8665178 -1.5863214]\n",
      " [-0.8944037  1.0505624]\n",
      " [ 1.8665178 -1.5863214]\n",
      " [-0.8944037  1.0505624]\n",
      " [ 1.8665178 -1.5863214]\n",
      " [-0.8944037  1.0505624]]\n"
     ]
    },
    {
     "data": {
      "application/vnd.jupyter.widget-view+json": {
       "model_id": "",
       "version_major": 2,
       "version_minor": 0
      },
      "text/plain": [
       "HBox(children=(IntProgress(value=0, max=48), HTML(value='')))"
      ]
     },
     "metadata": {},
     "output_type": "display_data"
    },
    {
     "name": "stdout",
     "output_type": "stream",
     "text": [
      "[[ 1.8665178  -1.5863214 ]\n",
      " [-0.8944037   1.0505624 ]\n",
      " [-0.36899394  0.59051824]\n",
      " [ 1.6176044  -1.3435506 ]\n",
      " [-0.36899394  0.59051824]\n",
      " [ 1.6176044  -1.3435506 ]]\n",
      "[[-0.36899394  0.59051824]\n",
      " [ 1.6176044  -1.3435506 ]\n",
      " [-0.36899394  0.59051824]\n",
      " [ 1.6176044  -1.3435506 ]\n",
      " [-0.12089218  0.31202447]\n",
      " [ 0.9108922  -0.74697554]]\n",
      "[[-0.12089218  0.31202447]\n",
      " [ 0.9108922  -0.74697554]\n",
      " [-0.12089218  0.31202447]\n",
      " [ 0.9108922  -0.74697554]\n",
      " [-0.12089218  0.31202447]\n",
      " [ 0.9108922  -0.74697554]]\n",
      "[[ 1.8537488  -1.5510674 ]\n",
      " [-0.40204778  0.6090237 ]\n",
      " [ 1.8537488  -1.5510674 ]\n",
      " [-0.40204778  0.6090237 ]\n",
      " [ 1.8537488  -1.5510674 ]\n",
      " [-0.40204778  0.6090237 ]]\n",
      "[[ 1.8537488  -1.5510674 ]\n",
      " [-0.40204778  0.6090237 ]\n",
      " [ 2.0920892  -1.7652662 ]\n",
      " [ 0.23840353 -0.01481125]\n",
      " [ 2.0920892  -1.7652662 ]\n",
      " [ 0.23840353 -0.01481125]]\n"
     ]
    },
    {
     "name": "stderr",
     "output_type": "stream",
     "text": [
      "\n",
      "\n",
      "Partition explainer: 6it [02:51, 28.19s/it]\u001b[A\u001b[A"
     ]
    },
    {
     "name": "stdout",
     "output_type": "stream",
     "text": [
      "[[ 2.0920892  -1.7652662 ]\n",
      " [ 0.23840353 -0.01481125]\n",
      " [ 2.0920892  -1.7652662 ]\n",
      " [ 0.23840353 -0.01481125]\n",
      " [ 1.2703507  -1.0694945 ]\n",
      " [-0.6188883   0.77406454]]\n",
      "[[ 1.0285882  -0.91727626]]\n",
      "[[-0.6444107  0.8089404]]\n",
      "[[-0.6444106  0.8089405]\n",
      " [ 1.0285883 -0.9172764]]\n",
      "[[ 1.0285883 -0.9172763]\n",
      " [-0.6444106  0.8089405]\n",
      " [ 1.0285883 -0.9172763]\n",
      " [-0.6444106  0.8089405]]\n",
      "[[ 2.254784  -1.9730005]\n",
      " [-1.7178899  1.823715 ]\n",
      " [ 2.254784  -1.9730005]\n",
      " [-1.7178899  1.823715 ]\n",
      " [ 2.254784  -1.9730005]\n",
      " [-1.7178899  1.823715 ]]\n"
     ]
    },
    {
     "data": {
      "application/vnd.jupyter.widget-view+json": {
       "model_id": "",
       "version_major": 2,
       "version_minor": 0
      },
      "text/plain": [
       "HBox(children=(IntProgress(value=0, max=48), HTML(value='')))"
      ]
     },
     "metadata": {},
     "output_type": "display_data"
    },
    {
     "name": "stdout",
     "output_type": "stream",
     "text": [
      "[[ 2.254784   -1.9730005 ]\n",
      " [-1.7178899   1.823715  ]\n",
      " [ 1.055205   -0.81323445]\n",
      " [-0.8369404   0.9656478 ]\n",
      " [ 1.055205   -0.81323445]\n",
      " [-0.8369404   0.9656478 ]]\n",
      "[[ 1.055205   -0.81323445]\n",
      " [-0.8369404   0.9656478 ]\n",
      " [ 1.055205   -0.81323445]\n",
      " [-0.8369404   0.9656478 ]\n",
      " [ 0.14537773  0.05795047]\n",
      " [-1.5427634   1.5953047 ]]\n",
      "[[ 0.14537773  0.05795047]\n",
      " [-1.5427634   1.5953047 ]\n",
      " [ 0.14537773  0.05795047]\n",
      " [-1.5427634   1.5953047 ]\n",
      " [ 0.14537773  0.05795047]\n",
      " [-1.5427634   1.5953047 ]]\n",
      "[[-0.7488141   0.87839484]\n",
      " [ 2.274788   -1.996919  ]\n",
      " [-0.7488141   0.87839484]\n",
      " [ 2.274788   -1.996919  ]\n",
      " [-0.7488141   0.87839484]\n",
      " [ 2.274788   -1.996919  ]]\n",
      "[[-0.7488141   0.87839484]\n",
      " [ 2.274788   -1.996919  ]\n",
      " [-1.5068674   1.5513898 ]\n",
      " [ 1.1781237  -1.040835  ]\n",
      " [-1.5068674   1.5513898 ]\n",
      " [ 1.1781237  -1.040835  ]]\n"
     ]
    },
    {
     "name": "stderr",
     "output_type": "stream",
     "text": [
      "\n",
      "\n",
      "Partition explainer: 7it [03:33, 32.50s/it]\u001b[A\u001b[A"
     ]
    },
    {
     "name": "stdout",
     "output_type": "stream",
     "text": [
      "[[-1.5068674  1.5513898]\n",
      " [ 1.1781237 -1.040835 ]\n",
      " [-1.5068674  1.5513898]\n",
      " [ 1.1781237 -1.040835 ]\n",
      " [-1.2219696  1.3227779]\n",
      " [ 2.358837  -2.0751755]]\n",
      "[[ 1.1673828 -1.0123284]]\n",
      "[[-2.8115034  2.990902 ]]\n",
      "[[-2.8115034  2.9909024]\n",
      " [ 1.167383  -1.0123285]]\n",
      "[[ 1.1673828 -1.0123286]\n",
      " [-2.8115034  2.9909024]\n",
      " [ 1.1673828 -1.0123286]\n",
      " [-2.8115034  2.9909024]]\n",
      "[[-2.2105966  2.3399594]\n",
      " [-2.716642   2.8740783]\n",
      " [-2.2105966  2.3399594]\n",
      " [-2.716642   2.8740783]\n",
      " [-2.2105966  2.3399594]\n",
      " [-2.716642   2.8740783]]\n"
     ]
    },
    {
     "data": {
      "application/vnd.jupyter.widget-view+json": {
       "model_id": "",
       "version_major": 2,
       "version_minor": 0
      },
      "text/plain": [
       "HBox(children=(IntProgress(value=0, max=48), HTML(value='')))"
      ]
     },
     "metadata": {},
     "output_type": "display_data"
    },
    {
     "name": "stdout",
     "output_type": "stream",
     "text": [
      "[[-2.2105966   2.3399594 ]\n",
      " [-2.716642    2.8740783 ]\n",
      " [-2.5504093   2.672008  ]\n",
      " [ 0.4886644  -0.36930853]\n",
      " [-2.5504093   2.672008  ]\n",
      " [ 0.4886644  -0.36930853]]\n",
      "[[-2.5504093   2.672008  ]\n",
      " [ 0.4886644  -0.36930853]\n",
      " [-2.5504093   2.672008  ]\n",
      " [ 0.4886644  -0.36930853]\n",
      " [-2.050469    2.1803293 ]\n",
      " [ 0.7606559  -0.613751  ]]\n",
      "[[-2.050469   2.1803293]\n",
      " [ 0.7606559 -0.613751 ]\n",
      " [-2.050469   2.1803293]\n",
      " [ 0.7606559 -0.613751 ]\n",
      " [-2.050469   2.1803293]\n",
      " [ 0.7606559 -0.613751 ]]\n",
      "[[-2.1648717  2.263157 ]\n",
      " [-1.2617393  1.3186226]\n",
      " [-2.1648717  2.263157 ]\n",
      " [-1.2617393  1.3186226]\n",
      " [-2.1648717  2.263157 ]\n",
      " [-1.2617393  1.3186226]]\n",
      "[[-2.1648717  2.263157 ]\n",
      " [-1.2617393  1.3186226]\n",
      " [-2.3748336  2.498335 ]\n",
      " [-1.7821101  1.8806574]\n",
      " [-2.3748336  2.498335 ]\n",
      " [-1.7821101  1.8806574]]\n"
     ]
    },
    {
     "name": "stderr",
     "output_type": "stream",
     "text": [
      "\n",
      "\n",
      "Partition explainer: 8it [04:13, 34.73s/it]\u001b[A\u001b[A"
     ]
    },
    {
     "name": "stdout",
     "output_type": "stream",
     "text": [
      "[[-2.3748336  2.498335 ]\n",
      " [-1.7821101  1.8806574]\n",
      " [-2.3748336  2.498335 ]\n",
      " [-1.7821101  1.8806574]\n",
      " [ 1.2591461 -1.0745454]\n",
      " [-2.2396064  2.3865378]]\n",
      "[[ 0.36843094 -0.35418862]]\n",
      "[[-2.3321652  2.4078724]]\n",
      "[[-2.3321652   2.4078727 ]\n",
      " [ 0.3684309  -0.35418862]]\n",
      "[[ 0.3684309  -0.35418862]\n",
      " [-2.3321655   2.4078727 ]\n",
      " [ 0.3684309  -0.35418862]\n",
      " [-2.3321655   2.4078727 ]]\n",
      "[[-0.64501774  0.70552045]\n",
      " [-1.8991894   2.0004168 ]\n",
      " [-0.64501774  0.70552045]\n",
      " [-1.8991894   2.0004168 ]\n",
      " [-0.64501774  0.70552045]\n",
      " [-1.8991894   2.0004168 ]]\n"
     ]
    },
    {
     "data": {
      "application/vnd.jupyter.widget-view+json": {
       "model_id": "",
       "version_major": 2,
       "version_minor": 0
      },
      "text/plain": [
       "HBox(children=(IntProgress(value=0, max=48), HTML(value='')))"
      ]
     },
     "metadata": {},
     "output_type": "display_data"
    },
    {
     "name": "stdout",
     "output_type": "stream",
     "text": [
      "[[-0.64501774  0.70552045]\n",
      " [-1.8991894   2.0004168 ]\n",
      " [ 0.06915978  0.01775069]\n",
      " [-0.57766604  0.6559777 ]\n",
      " [ 0.06915978  0.01775069]\n",
      " [-0.57766604  0.6559777 ]]\n",
      "[[ 0.06915978  0.01775069]\n",
      " [-0.57766604  0.6559777 ]\n",
      " [ 0.06915978  0.01775069]\n",
      " [-0.57766604  0.6559777 ]\n",
      " [-1.3614101   1.3923423 ]\n",
      " [-1.8846      1.9090781 ]]\n",
      "[[-1.3614101  1.3923423]\n",
      " [-1.8846     1.9090781]\n",
      " [-1.3614101  1.3923423]\n",
      " [-1.8846     1.9090781]\n",
      " [-1.3614101  1.3923423]\n",
      " [-1.8846     1.9090781]]\n",
      "[[ 1.0831378  -0.89261055]\n",
      " [-0.05549707  0.16281523]\n",
      " [ 1.0831378  -0.89261055]\n",
      " [-0.05549707  0.16281523]\n",
      " [ 1.0831378  -0.89261055]\n",
      " [-0.05549707  0.16281523]]\n",
      "[[ 1.0831378  -0.89261055]\n",
      " [-0.05549707  0.16281523]\n",
      " [-1.865318    1.9647889 ]\n",
      " [ 0.04512332  0.04300579]\n",
      " [-1.865318    1.9647889 ]\n",
      " [ 0.04512332  0.04300579]]\n"
     ]
    },
    {
     "name": "stderr",
     "output_type": "stream",
     "text": [
      "\n",
      "\n",
      "Partition explainer: 9it [04:49, 35.05s/it]\u001b[A\u001b[A"
     ]
    },
    {
     "name": "stdout",
     "output_type": "stream",
     "text": [
      "[[-1.865318    1.9647889 ]\n",
      " [ 0.04512332  0.04300579]\n",
      " [-1.865318    1.9647889 ]\n",
      " [ 0.04512332  0.04300579]\n",
      " [ 2.1725595  -1.9214747 ]\n",
      " [-1.7775795   1.784673  ]]\n",
      "[[ 0.36843094 -0.35418862]]\n",
      "[[-2.25283   2.274956]]\n",
      "[[-2.2528298   2.2749557 ]\n",
      " [ 0.3684309  -0.35418862]]\n",
      "[[ 0.3684309  -0.35418862]\n",
      " [-2.2528298   2.274956  ]\n",
      " [ 0.3684309  -0.35418862]\n",
      " [-2.2528298   2.274956  ]]\n",
      "[[-1.9727633  2.0029225]\n",
      " [-1.9522789  1.9776677]\n",
      " [-1.9727633  2.0029225]\n",
      " [-1.9522789  1.9776677]\n",
      " [-1.9727633  2.0029225]\n",
      " [-1.9522789  1.9776677]]\n"
     ]
    },
    {
     "data": {
      "application/vnd.jupyter.widget-view+json": {
       "model_id": "",
       "version_major": 2,
       "version_minor": 0
      },
      "text/plain": [
       "HBox(children=(IntProgress(value=0, max=48), HTML(value='')))"
      ]
     },
     "metadata": {},
     "output_type": "display_data"
    },
    {
     "name": "stdout",
     "output_type": "stream",
     "text": [
      "[[-1.9727633  2.0029225]\n",
      " [-1.9522789  1.9776677]\n",
      " [-1.8334982  1.8550947]\n",
      " [ 1.0944148 -0.8886023]\n",
      " [-1.8334982  1.8550947]\n",
      " [ 1.0944148 -0.8886023]]\n",
      "[[-1.8334982   1.8550947 ]\n",
      " [ 1.0944148  -0.8886023 ]\n",
      " [-1.8334982   1.8550947 ]\n",
      " [ 1.0944148  -0.8886023 ]\n",
      " [ 0.6098728  -0.52972347]\n",
      " [-1.145958    1.2024834 ]]\n",
      "[[ 0.6098728  -0.52972347]\n",
      " [-1.145958    1.2024834 ]\n",
      " [ 0.6098728  -0.52972347]\n",
      " [-1.145958    1.2024834 ]\n",
      " [ 0.6098728  -0.52972347]\n",
      " [-1.145958    1.2024834 ]]\n",
      "[[-1.6864064   1.7384369 ]\n",
      " [ 0.36298063 -0.17474595]\n",
      " [-1.6864064   1.7384369 ]\n",
      " [ 0.36298063 -0.17474595]\n",
      " [-1.6864064   1.7384369 ]\n",
      " [ 0.36298063 -0.17474595]]\n",
      "[[-1.6864064   1.7384369 ]\n",
      " [ 0.36298063 -0.17474595]\n",
      " [-1.9522789   1.9776677 ]\n",
      " [ 0.6098728  -0.52972347]\n",
      " [-1.9522789   1.9776677 ]\n",
      " [ 0.6098728  -0.52972347]]\n"
     ]
    },
    {
     "name": "stderr",
     "output_type": "stream",
     "text": [
      "\n",
      "\n",
      "Partition explainer: 10it [05:26, 35.72s/it]\u001b[A\u001b[A"
     ]
    },
    {
     "name": "stdout",
     "output_type": "stream",
     "text": [
      "[[-1.9522789   1.9776677 ]\n",
      " [ 0.6098728  -0.52972347]\n",
      " [-1.9522789   1.9776677 ]\n",
      " [ 0.6098728  -0.52972347]\n",
      " [-1.8205136   1.8625057 ]\n",
      " [ 1.2176659  -1.0311692 ]]\n",
      "[[ 0.55809355 -0.54123765]]\n",
      "[[-3.2246997  3.3723338]]\n",
      "[[-3.2246993   3.3723338 ]\n",
      " [ 0.55809355 -0.5412376 ]]\n",
      "[[ 0.55809355 -0.54123765]\n",
      " [-3.2246995   3.372334  ]\n",
      " [ 0.55809355 -0.54123765]\n",
      " [-3.2246995   3.372334  ]]\n"
     ]
    },
    {
     "data": {
      "application/vnd.jupyter.widget-view+json": {
       "model_id": "",
       "version_major": 2,
       "version_minor": 0
      },
      "text/plain": [
       "HBox(children=(IntProgress(value=0, max=48), HTML(value='')))"
      ]
     },
     "metadata": {},
     "output_type": "display_data"
    },
    {
     "name": "stdout",
     "output_type": "stream",
     "text": [
      "[[-2.3958704  2.5035272]\n",
      " [-2.4096272  2.5079312]\n",
      " [-2.3958704  2.5035272]\n",
      " [-2.4096272  2.5079312]\n",
      " [-2.3958704  2.5035272]\n",
      " [-2.4096272  2.5079312]]\n",
      "[[-2.3958704  2.5035272]\n",
      " [-2.4096272  2.5079312]\n",
      " [ 1.6451524 -1.3971539]\n",
      " [-2.567893   2.6377394]\n",
      " [ 1.6451524 -1.3971539]\n",
      " [-2.567893   2.6377394]]\n",
      "[[ 1.6451524 -1.3971539]\n",
      " [-2.567893   2.6377394]\n",
      " [ 1.6451524 -1.3971539]\n",
      " [-2.567893   2.6377394]\n",
      " [ 1.4535319 -1.2655048]\n",
      " [-2.2819235  2.3684833]]\n",
      "[[ 1.4535319 -1.2655048]\n",
      " [-2.2819235  2.3684833]\n",
      " [ 1.4535319 -1.2655048]\n",
      " [-2.2819235  2.3684833]\n",
      " [ 1.4535319 -1.2655048]\n",
      " [-2.2819235  2.3684833]]\n",
      "[[-1.0174077  1.1609154]\n",
      " [-1.2947667  1.4200423]\n",
      " [-1.0174077  1.1609154]\n",
      " [-1.2947667  1.4200423]\n",
      " [-1.0174077  1.1609154]\n",
      " [-1.2947667  1.4200423]]\n",
      "[[-1.0174077  1.1609154]\n",
      " [-1.2947667  1.4200423]\n",
      " [-2.3117442  2.3974428]\n",
      " [ 1.9335402 -1.6835339]\n",
      " [-2.3117442  2.3974428]\n",
      " [ 1.9335402 -1.6835339]]\n"
     ]
    },
    {
     "name": "stderr",
     "output_type": "stream",
     "text": [
      "\n",
      "\n",
      "Partition explainer: 11it [06:06, 33.31s/it]\u001b[A\u001b[A"
     ]
    },
    {
     "name": "stdout",
     "output_type": "stream",
     "text": [
      "[[-2.3117442  2.3974428]\n",
      " [ 1.9335402 -1.6835339]\n",
      " [-2.3117442  2.3974428]\n",
      " [ 1.9335402 -1.6835339]\n",
      " [-1.0873966  1.0878298]\n",
      " [-2.078196   2.1578236]]\n"
     ]
    },
    {
     "name": "stderr",
     "output_type": "stream",
     "text": [
      "\n"
     ]
    },
    {
     "data": {
      "text/html": [
       "<svg width=\"100%\" height=\"80px\"><line x1=\"0\" y1=\"33\" x2=\"100%\" y2=\"33\" style=\"stroke:rgb(150,150,150);stroke-width:1\" /><line x1=\"25.907007%\" y1=\"33\" x2=\"25.907007%\" y2=\"37\" style=\"stroke:rgb(150,150,150);stroke-width:1\" /><text x=\"25.907007%\" y=\"27\" font-size=\"12px\" fill=\"rgb(120,120,120)\" dominant-baseline=\"bottom\" text-anchor=\"middle\">-2.171296</text><text x=\"25.907007%\" y=\"10\" font-size=\"12px\" fill=\"rgb(120,120,120)\" dominant-baseline=\"bottom\" text-anchor=\"middle\">base value</text><line x1=\"11.621292%\" y1=\"33\" x2=\"11.621292%\" y2=\"37\" style=\"stroke:rgb(150,150,150);stroke-width:1\" /><text x=\"11.621292%\" y=\"27\" font-size=\"12px\" fill=\"rgb(120,120,120)\" dominant-baseline=\"bottom\" text-anchor=\"middle\">-3.892206</text><line x1=\"40.192721%\" y1=\"33\" x2=\"40.192721%\" y2=\"37\" style=\"stroke:rgb(150,150,150);stroke-width:1\" /><text x=\"40.192721%\" y=\"27\" font-size=\"12px\" fill=\"rgb(120,120,120)\" dominant-baseline=\"bottom\" text-anchor=\"middle\">-0.450386</text><line x1=\"54.478435%\" y1=\"33\" x2=\"54.478435%\" y2=\"37\" style=\"stroke:rgb(150,150,150);stroke-width:1\" /><text x=\"54.478435%\" y=\"27\" font-size=\"12px\" fill=\"rgb(120,120,120)\" dominant-baseline=\"bottom\" text-anchor=\"middle\">1.270524</text><line x1=\"68.764149%\" y1=\"33\" x2=\"68.764149%\" y2=\"37\" style=\"stroke:rgb(150,150,150);stroke-width:1\" /><text x=\"68.764149%\" y=\"27\" font-size=\"12px\" fill=\"rgb(120,120,120)\" dominant-baseline=\"bottom\" text-anchor=\"middle\">2.991435</text><line x1=\"83.049864%\" y1=\"33\" x2=\"83.049864%\" y2=\"37\" style=\"stroke:rgb(150,150,150);stroke-width:1\" /><text x=\"83.049864%\" y=\"27\" font-size=\"12px\" fill=\"rgb(120,120,120)\" dominant-baseline=\"bottom\" text-anchor=\"middle\">4.712345</text><line x1=\"74.092993%\" y1=\"33\" x2=\"74.092993%\" y2=\"37\" style=\"stroke:rgb(150,150,150);stroke-width:1\" /><text x=\"74.092993%\" y=\"27\" font-size=\"13px\" style=\"stroke:#ffffff;stroke-width:8px;\" font-weight=\"bold\" fill=\"rgb(255,255,255)\" dominant-baseline=\"bottom\" text-anchor=\"middle\">3.633367</text><text x=\"74.092993%\" y=\"27\" font-size=\"13px\" font-weight=\"bold\" fill=\"rgb(0,0,0)\" dominant-baseline=\"bottom\" text-anchor=\"middle\">3.633367</text><text x=\"74.092993%\" y=\"10\" font-size=\"12px\" fill=\"rgb(120,120,120)\" dominant-baseline=\"bottom\" text-anchor=\"middle\">f(x)</text><rect x=\"8.333333333333332%\" width=\"65.75966012036486%\" y=\"40\" height=\"18\" style=\"fill:rgb(255.0, 0.0, 81.08083606031792); stroke-width:0; stroke:rgb(0,0,0)\" /><line x1=\"40.794150877029686%\" x2=\"74.09299345369818%\" y1=\"60\" y2=\"60\" id=\"_fb_wkqqzqgbtkstkknlabyj_ind_3\" style=\"stroke:rgb(255.0, 0.0, 81.08083606031792);stroke-width:2; opacity: 0\"/><text x=\"57.44357216536393%\" y=\"71\" font-size=\"12px\" id=\"_fs_wkqqzqgbtkstkknlabyj_ind_3\" fill=\"rgb(255.0, 0.0, 81.08083606031792)\" style=\"opacity: 0\" dominant-baseline=\"middle\" text-anchor=\"middle\">4.011</text><svg x=\"40.794150877029686%\" y=\"40\" height=\"20\" width=\"33.2988425766685%\">  <svg x=\"0\" y=\"0\" width=\"100%\" height=\"100%\">    <text x=\"50%\" y=\"9\" font-size=\"12px\" fill=\"rgb(255,255,255)\" dominant-baseline=\"middle\" text-anchor=\"middle\">and to pull that off in a story about some of the most traditionally reviled members of society is truly impressive. Its not The Fisher King, but its not crap, either.</text>  </svg></svg><line x1=\"8.333333333333332%\" x2=\"40.794150877029686%\" y1=\"60\" y2=\"60\" id=\"_fb_wkqqzqgbtkstkknlabyj_ind_2\" style=\"stroke:rgb(255.0, 0.0, 81.08083606031792);stroke-width:2; opacity: 0\"/><text x=\"24.56374210518151%\" y=\"71\" font-size=\"12px\" id=\"_fs_wkqqzqgbtkstkknlabyj_ind_2\" fill=\"rgb(255.0, 0.0, 81.08083606031792)\" style=\"opacity: 0\" dominant-baseline=\"middle\" text-anchor=\"middle\">3.91</text><svg x=\"8.333333333333332%\" y=\"40\" height=\"20\" width=\"32.46081754369635%\">  <svg x=\"0\" y=\"0\" width=\"100%\" height=\"100%\">    <text x=\"50%\" y=\"9\" font-size=\"12px\" fill=\"rgb(255,255,255)\" dominant-baseline=\"middle\" text-anchor=\"middle\">. Many of the jokes fall flat. But still, this film is very lovable in a way many comedies are not,</text>  </svg></svg><g transform=\"translate(0,0)\">  <svg x=\"40.794150877029686%\" y=\"40\" height=\"18\" overflow=\"visible\" width=\"30\">    <path d=\"M 0 -9 l 6 18 L 0 25\" fill=\"none\" style=\"stroke:rgb(255.0, 0.0, 81.08083606031792);stroke-width:2\" />  </svg></g><g transform=\"translate(2,0)\">  <svg x=\"40.794150877029686%\" y=\"40\" height=\"18\" overflow=\"visible\" width=\"30\">    <path d=\"M 0 -9 l 6 18 L 0 25\" fill=\"none\" style=\"stroke:rgb(255.0, 0.0, 81.08083606031792);stroke-width:2\" />  </svg></g><g transform=\"translate(4,0)\">  <svg x=\"40.794150877029686%\" y=\"40\" height=\"18\" overflow=\"visible\" width=\"30\">    <path d=\"M 0 -9 l 6 18 L 0 25\" fill=\"none\" style=\"stroke:rgb(255.0, 0.0, 81.08083606031792);stroke-width:2\" />  </svg></g><g transform=\"translate(6,0)\">  <svg x=\"40.794150877029686%\" y=\"40\" height=\"18\" overflow=\"visible\" width=\"30\">    <path d=\"M 0 -9 l 6 18 L 0 25\" fill=\"none\" style=\"stroke:rgb(255.0, 0.0, 81.08083606031792);stroke-width:2\" />  </svg></g><g transform=\"translate(-8,0)\">  <svg x=\"40.794150877029686%\" y=\"40\" height=\"18\" overflow=\"visible\" width=\"30\">    <path d=\"M 0 -9 l 6 18 L 0 25\" fill=\"none\" style=\"stroke:rgb(255.0, 0.0, 81.08083606031792);stroke-width:2\" />  </svg></g><g transform=\"translate(-6,0)\">  <svg x=\"40.794150877029686%\" y=\"40\" height=\"18\" overflow=\"visible\" width=\"30\">    <path d=\"M 0 -9 l 6 18 L 0 25\" fill=\"none\" style=\"stroke:rgb(255.0, 0.0, 81.08083606031792);stroke-width:2\" />  </svg></g><g transform=\"translate(-4,0)\">  <svg x=\"40.794150877029686%\" y=\"40\" height=\"18\" overflow=\"visible\" width=\"30\">    <path d=\"M 0 -9 l 6 18 L 0 25\" fill=\"none\" style=\"stroke:rgb(255.0, 0.0, 81.08083606031792);stroke-width:2\" />  </svg></g><g transform=\"translate(-2,0)\">  <svg x=\"40.794150877029686%\" y=\"40\" height=\"18\" overflow=\"visible\" width=\"30\">    <path d=\"M 0 -9 l 6 18 L 0 25\" fill=\"none\" style=\"stroke:rgb(255.0, 0.0, 81.08083606031792);stroke-width:2\" />  </svg></g><rect transform=\"translate(-8,0)\" x=\"74.09299345369818%\" y=\"40\" width=\"8\" height=\"18\" style=\"fill:rgb(255.0, 0.0, 81.08083606031792)\"/><g transform=\"translate(-11.5,0)\">  <svg x=\"8.333333333333332%\" y=\"40\" height=\"18\" overflow=\"visible\" width=\"30\">    <path d=\"M 10 -9 l 6 18 L 10 25 L 0 25 L 0 -9\" fill=\"#ffffff\" style=\"stroke:rgb(255,255,255);stroke-width:2\" />  </svg></g><g transform=\"translate(-1.5,0)\">  <svg x=\"74.09299345369818%\" y=\"40\" height=\"18\" overflow=\"visible\" width=\"30\">    <path d=\"M 0 -9 l 6 18 L 0 25\" fill=\"none\" style=\"stroke:rgb(255, 195, 213);stroke-width:2\" />  </svg></g><rect x=\"40.794150877029686%\" y=\"40\" height=\"20\" width=\"33.2988425766685%\"      onmouseover=\"document.getElementById('_tp_wkqqzqgbtkstkknlabyj_ind_3').style.textDecoration = 'underline';document.getElementById('_fs_wkqqzqgbtkstkknlabyj_ind_3').style.opacity = 1;document.getElementById('_fb_wkqqzqgbtkstkknlabyj_ind_3').style.opacity = 1;\"      onmouseout=\"document.getElementById('_tp_wkqqzqgbtkstkknlabyj_ind_3').style.textDecoration = 'none';document.getElementById('_fs_wkqqzqgbtkstkknlabyj_ind_3').style.opacity = 0;document.getElementById('_fb_wkqqzqgbtkstkknlabyj_ind_3').style.opacity = 0;\" style=\"fill:rgb(0,0,0,0)\" /><rect x=\"8.333333333333332%\" y=\"40\" height=\"20\" width=\"32.46081754369635%\"      onmouseover=\"document.getElementById('_tp_wkqqzqgbtkstkknlabyj_ind_2').style.textDecoration = 'underline';document.getElementById('_fs_wkqqzqgbtkstkknlabyj_ind_2').style.opacity = 1;document.getElementById('_fb_wkqqzqgbtkstkknlabyj_ind_2').style.opacity = 1;\"      onmouseout=\"document.getElementById('_tp_wkqqzqgbtkstkknlabyj_ind_2').style.textDecoration = 'none';document.getElementById('_fs_wkqqzqgbtkstkknlabyj_ind_2').style.opacity = 0;document.getElementById('_fb_wkqqzqgbtkstkknlabyj_ind_2').style.opacity = 0;\" style=\"fill:rgb(0,0,0,0)\" /><rect x=\"74.09299345369818%\" width=\"17.573673212968483%\" y=\"40\" height=\"18\" style=\"fill:rgb(0.0, 138.56128015770724, 250.76166088685727); stroke-width:0; stroke:rgb(0,0,0)\" /><line x1=\"74.09299345369818%\" x2=\"86.49930685985552%\" y1=\"60\" y2=\"60\" id=\"_fb_wkqqzqgbtkstkknlabyj_ind_1\" style=\"stroke:rgb(0.0, 138.56128015770724, 250.76166088685727);stroke-width:2; opacity: 0\"/><text x=\"80.29615015677686%\" y=\"71\" font-size=\"12px\" fill=\"rgb(0.0, 138.56128015770724, 250.76166088685727)\" id=\"_fs_wkqqzqgbtkstkknlabyj_ind_1\" style=\"opacity: 0\" dominant-baseline=\"middle\" text-anchor=\"middle\">-1.495</text><svg x=\"74.09299345369818%\" y=\"40\" height=\"20\" width=\"12.406313406157338%\">  <svg x=\"0\" y=\"0\" width=\"100%\" height=\"100%\">    <text x=\"50%\" y=\"9\" font-size=\"12px\" fill=\"rgb(255,255,255)\" dominant-baseline=\"middle\" text-anchor=\"middle\">This is easily the most underrated film inn the Brooks cannon. Sure, its flawed. It does not give a realistic view of homelessness (unlike, say, how Citizen Kane gave a realistic view of lounge singers, or Titanic gave a realistic view of Italians YOU IDIOTS)</text>  </svg></svg><line x1=\"86.49930685985552%\" x2=\"91.66666666666667%\" y1=\"60\" y2=\"60\" id=\"_fb_wkqqzqgbtkstkknlabyj_ind_4\" style=\"stroke:rgb(0.0, 138.56128015770724, 250.76166088685727);stroke-width:2; opacity: 0\"/><text x=\"89.08298676326109%\" y=\"71\" font-size=\"12px\" fill=\"rgb(0.0, 138.56128015770724, 250.76166088685727)\" id=\"_fs_wkqqzqgbtkstkknlabyj_ind_4\" style=\"opacity: 0\" dominant-baseline=\"middle\" text-anchor=\"middle\">-0.622</text><svg x=\"86.49930685985552%\" y=\"40\" height=\"20\" width=\"5.167359806811149%\">  <svg x=\"0\" y=\"0\" width=\"100%\" height=\"100%\">    <text x=\"50%\" y=\"9\" font-size=\"12px\" fill=\"rgb(255,255,255)\" dominant-baseline=\"middle\" text-anchor=\"middle\">My only complaint is that Brooks should have cast someone else in the lead (I love Mel as a Director and Writer, not so much as a lead).</text>  </svg></svg><g transform=\"translate(-8,0)\">  <svg x=\"86.49930685985552%\" y=\"40\" height=\"18\" overflow=\"visible\" width=\"30\">    <path d=\"M 8 -9 l -6 18 L 8 25\" fill=\"none\" style=\"stroke:rgb(0.0, 138.56128015770724, 250.76166088685727);stroke-width:2\" />  </svg></g><g transform=\"translate(-10,0)\">  <svg x=\"86.49930685985552%\" y=\"40\" height=\"18\" overflow=\"visible\" width=\"30\">    <path d=\"M 8 -9 l -6 18 L 8 25\" fill=\"none\" style=\"stroke:rgb(0.0, 138.56128015770724, 250.76166088685727);stroke-width:2\" />  </svg></g><g transform=\"translate(-12,0)\">  <svg x=\"86.49930685985552%\" y=\"40\" height=\"18\" overflow=\"visible\" width=\"30\">    <path d=\"M 8 -9 l -6 18 L 8 25\" fill=\"none\" style=\"stroke:rgb(0.0, 138.56128015770724, 250.76166088685727);stroke-width:2\" />  </svg></g><g transform=\"translate(-14,0)\">  <svg x=\"86.49930685985552%\" y=\"40\" height=\"18\" overflow=\"visible\" width=\"30\">    <path d=\"M 8 -9 l -6 18 L 8 25\" fill=\"none\" style=\"stroke:rgb(0.0, 138.56128015770724, 250.76166088685727);stroke-width:2\" />  </svg></g><g transform=\"translate(2,0)\">  <svg x=\"86.49930685985552%\" y=\"40\" height=\"18\" overflow=\"visible\" width=\"30\">    <path d=\"M 8 -9 l -6 18 L 8 25\" fill=\"none\" style=\"stroke:rgb(0.0, 138.56128015770724, 250.76166088685727);stroke-width:2\" />  </svg></g><g transform=\"translate(0,0)\">  <svg x=\"86.49930685985552%\" y=\"40\" height=\"18\" overflow=\"visible\" width=\"30\">    <path d=\"M 8 -9 l -6 18 L 8 25\" fill=\"none\" style=\"stroke:rgb(0.0, 138.56128015770724, 250.76166088685727);stroke-width:2\" />  </svg></g><g transform=\"translate(-2,0)\">  <svg x=\"86.49930685985552%\" y=\"40\" height=\"18\" overflow=\"visible\" width=\"30\">    <path d=\"M 8 -9 l -6 18 L 8 25\" fill=\"none\" style=\"stroke:rgb(0.0, 138.56128015770724, 250.76166088685727);stroke-width:2\" />  </svg></g><g transform=\"translate(-4,0)\">  <svg x=\"86.49930685985552%\" y=\"40\" height=\"18\" overflow=\"visible\" width=\"30\">    <path d=\"M 8 -9 l -6 18 L 8 25\" fill=\"none\" style=\"stroke:rgb(0.0, 138.56128015770724, 250.76166088685727);stroke-width:2\" />  </svg></g><rect transform=\"translate(0,0)\" x=\"74.09299345369818%\" y=\"40\" width=\"8\" height=\"18\" style=\"fill:rgb(0.0, 138.56128015770724, 250.76166088685727)\"/><g transform=\"translate(-6.0,0)\">  <svg x=\"91.66666666666667%\" y=\"40\" height=\"18\" overflow=\"visible\" width=\"30\">    <path d=\"M 8 -9 l -6 18 L 8 25 L 20 25 L 20 -9\" fill=\"#ffffff\" style=\"stroke:rgb(255,255,255);stroke-width:2\" />  </svg></g><g transform=\"translate(-6.0,0)\">  <svg x=\"86.49930685985552%\" y=\"40\" height=\"18\" overflow=\"visible\" width=\"30\">    <path d=\"M 8 -9 l -6 18 L 8 25\" fill=\"none\" style=\"stroke:rgb(208, 230, 250);stroke-width:2\" />  </svg></g><rect x=\"74.09299345369818%\" y=\"40\" height=\"20\" width=\"12.406313406157338%\"      onmouseover=\"document.getElementById('_tp_wkqqzqgbtkstkknlabyj_ind_1').style.textDecoration = 'underline';document.getElementById('_fs_wkqqzqgbtkstkknlabyj_ind_1').style.opacity = 1;document.getElementById('_fb_wkqqzqgbtkstkknlabyj_ind_1').style.opacity = 1;\"      onmouseout=\"document.getElementById('_tp_wkqqzqgbtkstkknlabyj_ind_1').style.textDecoration = 'none';document.getElementById('_fs_wkqqzqgbtkstkknlabyj_ind_1').style.opacity = 0;document.getElementById('_fb_wkqqzqgbtkstkknlabyj_ind_1').style.opacity = 0;\" style=\"fill:rgb(0,0,0,0)\" /><rect x=\"86.49930685985552%\" y=\"40\" height=\"20\" width=\"5.167359806811149%\"      onmouseover=\"document.getElementById('_tp_wkqqzqgbtkstkknlabyj_ind_4').style.textDecoration = 'underline';document.getElementById('_fs_wkqqzqgbtkstkknlabyj_ind_4').style.opacity = 1;document.getElementById('_fb_wkqqzqgbtkstkknlabyj_ind_4').style.opacity = 1;\"      onmouseout=\"document.getElementById('_tp_wkqqzqgbtkstkknlabyj_ind_4').style.textDecoration = 'none';document.getElementById('_fs_wkqqzqgbtkstkknlabyj_ind_4').style.opacity = 0;document.getElementById('_fb_wkqqzqgbtkstkknlabyj_ind_4').style.opacity = 0;\" style=\"fill:rgb(0,0,0,0)\" /></svg><div style='display: inline; text-align: center;'><div style='display: none; color: #999; padding-top: 0px; font-size: 12px;'>0.0</div><div id='_tp_wkqqzqgbtkstkknlabyj_ind_0'style='display: inline; background: rgba(230.2941176470614, 26.505882352939775, 102.59215686274348, 0.0); border-radius: 3px; padding: 0px'onclick=\"if (this.previousSibling.style.display == 'none') {this.previousSibling.style.display = 'block';this.parentNode.style.display = 'inline-block';} else {this.previousSibling.style.display = 'none';this.parentNode.style.display = 'inline';}\"onmouseover=\"document.getElementById('_fb_wkqqzqgbtkstkknlabyj_ind_0').style.opacity = 1; document.getElementById('_fs_wkqqzqgbtkstkknlabyj_ind_0').style.opacity = 1;\"onmouseout=\"document.getElementById('_fb_wkqqzqgbtkstkknlabyj_ind_0').style.opacity = 0; document.getElementById('_fs_wkqqzqgbtkstkknlabyj_ind_0').style.opacity = 0;\"></div></div><div style='display: inline; text-align: center;'><div style='display: none; color: #999; padding-top: 0px; font-size: 12px;'>-1.495 / 55</div><div id='_tp_wkqqzqgbtkstkknlabyj_ind_1'style='display: inline; background: rgba(30.0, 136.0, 229.0, 1.0); border-radius: 3px; padding: 0px'onclick=\"if (this.previousSibling.style.display == 'none') {this.previousSibling.style.display = 'block';this.parentNode.style.display = 'inline-block';} else {this.previousSibling.style.display = 'none';this.parentNode.style.display = 'inline';}\"onmouseover=\"document.getElementById('_fb_wkqqzqgbtkstkknlabyj_ind_1').style.opacity = 1; document.getElementById('_fs_wkqqzqgbtkstkknlabyj_ind_1').style.opacity = 1;\"onmouseout=\"document.getElementById('_fb_wkqqzqgbtkstkknlabyj_ind_1').style.opacity = 0; document.getElementById('_fs_wkqqzqgbtkstkknlabyj_ind_1').style.opacity = 0;\">This is easily the most underrated film inn the Brooks cannon. Sure, its flawed. It does not give a realistic view of homelessness (unlike, say, how Citizen Kane gave a realistic view of lounge singers, or Titanic gave a realistic view of Italians YOU IDIOTS)</div></div><div style='display: inline; text-align: center;'><div style='display: none; color: #999; padding-top: 0px; font-size: 12px;'>3.91 / 25</div><div id='_tp_wkqqzqgbtkstkknlabyj_ind_2'style='display: inline; background: rgba(255.0, 13.0, 87.0, 1.0); border-radius: 3px; padding: 0px'onclick=\"if (this.previousSibling.style.display == 'none') {this.previousSibling.style.display = 'block';this.parentNode.style.display = 'inline-block';} else {this.previousSibling.style.display = 'none';this.parentNode.style.display = 'inline';}\"onmouseover=\"document.getElementById('_fb_wkqqzqgbtkstkknlabyj_ind_2').style.opacity = 1; document.getElementById('_fs_wkqqzqgbtkstkknlabyj_ind_2').style.opacity = 1;\"onmouseout=\"document.getElementById('_fb_wkqqzqgbtkstkknlabyj_ind_2').style.opacity = 0; document.getElementById('_fs_wkqqzqgbtkstkknlabyj_ind_2').style.opacity = 0;\">. Many of the jokes fall flat. But still, this film is very lovable in a way many comedies are not, </div></div><div style='display: inline; text-align: center;'><div style='display: none; color: #999; padding-top: 0px; font-size: 12px;'>4.011 / 36</div><div id='_tp_wkqqzqgbtkstkknlabyj_ind_3'style='display: inline; background: rgba(255.0, 13.0, 87.0, 1.0); border-radius: 3px; padding: 0px'onclick=\"if (this.previousSibling.style.display == 'none') {this.previousSibling.style.display = 'block';this.parentNode.style.display = 'inline-block';} else {this.previousSibling.style.display = 'none';this.parentNode.style.display = 'inline';}\"onmouseover=\"document.getElementById('_fb_wkqqzqgbtkstkknlabyj_ind_3').style.opacity = 1; document.getElementById('_fs_wkqqzqgbtkstkknlabyj_ind_3').style.opacity = 1;\"onmouseout=\"document.getElementById('_fb_wkqqzqgbtkstkknlabyj_ind_3').style.opacity = 0; document.getElementById('_fs_wkqqzqgbtkstkknlabyj_ind_3').style.opacity = 0;\">and to pull that off in a story about some of the most traditionally reviled members of society is truly impressive. Its not The Fisher King, but its not crap, either. </div></div><div style='display: inline; text-align: center;'><div style='display: none; color: #999; padding-top: 0px; font-size: 12px;'>-0.622 / 32</div><div id='_tp_wkqqzqgbtkstkknlabyj_ind_4'style='display: inline; background: rgba(30.0, 136.0, 229.0, 1.0); border-radius: 3px; padding: 0px'onclick=\"if (this.previousSibling.style.display == 'none') {this.previousSibling.style.display = 'block';this.parentNode.style.display = 'inline-block';} else {this.previousSibling.style.display = 'none';this.parentNode.style.display = 'inline';}\"onmouseover=\"document.getElementById('_fb_wkqqzqgbtkstkknlabyj_ind_4').style.opacity = 1; document.getElementById('_fs_wkqqzqgbtkstkknlabyj_ind_4').style.opacity = 1;\"onmouseout=\"document.getElementById('_fb_wkqqzqgbtkstkknlabyj_ind_4').style.opacity = 0; document.getElementById('_fs_wkqqzqgbtkstkknlabyj_ind_4').style.opacity = 0;\">My only complaint is that Brooks should have cast someone else in the lead (I love Mel as a Director and Writer, not so much as a lead).</div></div><div style='display: inline; text-align: center;'><div style='display: none; color: #999; padding-top: 0px; font-size: 12px;'>0.0</div><div id='_tp_wkqqzqgbtkstkknlabyj_ind_5'style='display: inline; background: rgba(230.2941176470614, 26.505882352939775, 102.59215686274348, 0.0); border-radius: 3px; padding: 0px'onclick=\"if (this.previousSibling.style.display == 'none') {this.previousSibling.style.display = 'block';this.parentNode.style.display = 'inline-block';} else {this.previousSibling.style.display = 'none';this.parentNode.style.display = 'inline';}\"onmouseover=\"document.getElementById('_fb_wkqqzqgbtkstkknlabyj_ind_5').style.opacity = 1; document.getElementById('_fs_wkqqzqgbtkstkknlabyj_ind_5').style.opacity = 1;\"onmouseout=\"document.getElementById('_fb_wkqqzqgbtkstkknlabyj_ind_5').style.opacity = 0; document.getElementById('_fs_wkqqzqgbtkstkknlabyj_ind_5').style.opacity = 0;\"></div></div>"
      ],
      "text/plain": [
       "<IPython.core.display.HTML object>"
      ]
     },
     "metadata": {},
     "output_type": "display_data"
    }
   ],
   "source": [
    "import shap\n",
    "import transformers\n",
    "import nlp\n",
    "import torch\n",
    "import numpy as np\n",
    "import scipy as sp\n",
    "# load a BERT sentiment analysis model\n",
    "tokenizer = transformers.DistilBertTokenizerFast.from_pretrained(\"distilbert-base-uncased\")\n",
    "model = transformers.DistilBertForSequenceClassification.from_pretrained(\n",
    "    \"distilbert-base-uncased-finetuned-sst-2-english\"\n",
    ")\n",
    "\n",
    "# define a prediction function\n",
    "def f(x):\n",
    "    tv = torch.tensor([tokenizer.encode(v, padding='max_length', max_length=500, truncation=True) for v in x])\n",
    "    outputs = model(tv)[0].detach().cpu().numpy()\n",
    "    print(outputs)\n",
    "    scores = (np.exp(outputs).T / np.exp(outputs).sum(-1)).T\n",
    "    val = sp.special.logit(scores[:,1]) # use one vs rest logit units\n",
    "    return val\n",
    "\n",
    "# build an explainer using a token masker\n",
    "explainer = shap.Explainer(f, tokenizer)\n",
    "\n",
    "# explain the model's predictions on IMDB reviews\n",
    "imdb_train = nlp.load_dataset(\"imdb\")[\"train\"]\n",
    "shap_values = explainer(imdb_train[:10])\n",
    "shap.plots.text(shap_values[3])"
   ]
  },
  {
   "cell_type": "code",
   "execution_count": null,
   "metadata": {
    "scrolled": true
   },
   "outputs": [],
   "source": []
  },
  {
   "cell_type": "code",
   "execution_count": null,
   "metadata": {},
   "outputs": [],
   "source": []
  },
  {
   "cell_type": "code",
   "execution_count": 4,
   "metadata": {},
   "outputs": [
    {
     "name": "stderr",
     "output_type": "stream",
     "text": [
      "usage: Train a model on NEWS [-h] [--name NAME]\n",
      "                             [--raw_data_file RAW_DATA_FILE] [--times TIMES]\n",
      "                             [--seed SEED]\n",
      "                             [--train_record_file TRAIN_RECORD_FILE]\n",
      "                             [--dev_record_file DEV_RECORD_FILE]\n",
      "                             [--test_record_file TEST_RECORD_FILE]\n",
      "                             [--save_dir SAVE_DIR] [--load_path LOAD_PATH]\n",
      "                             [--batch_size BATCH_SIZE]\n",
      "                             [--hidden_size HIDDEN_SIZE]\n",
      "                             [--num_workers NUM_WORKERS]\n",
      "                             [--eval_steps EVAL_STEPS] [--lr_1 LR_1]\n",
      "                             [--lr_2 LR_2] [--l2_wd L2_WD]\n",
      "                             [--num_epochs NUM_EPOCHS] [--drop_prob DROP_PROB]\n",
      "                             [--num_labels NUM_LABELS] [--freeze FREEZE]\n",
      "                             [--use_img USE_IMG] [--img_size IMG_SIZE]\n",
      "                             [--metric_name {NLL,F1}]\n",
      "                             [--max_checkpoints MAX_CHECKPOINTS]\n",
      "Train a model on NEWS: error: unrecognized arguments: -f /Users/eason880913/Library/Jupyter/runtime/kernel-d1155d3c-9f35-4254-8c6b-cb1515190dd7.json\n"
     ]
    },
    {
     "ename": "SystemExit",
     "evalue": "2",
     "output_type": "error",
     "traceback": [
      "An exception has occurred, use %tb to see the full traceback.\n",
      "\u001b[0;31mSystemExit\u001b[0m\u001b[0;31m:\u001b[0m 2\n"
     ]
    }
   ],
   "source": [
    "import shap\n",
    "import nlp\n",
    "import torch\n",
    "import transformers\n",
    "import scipy as sp\n",
    "\n",
    "args = get_train_args()\n",
    "device, args.gpu_ids = utils.get_available_devices()\n",
    "\n",
    "# load a BERT sentiment analysis model\n",
    "tokenizer = transformers.DistilBertTokenizerFast.from_pretrained(\"distilbert-base-multilingual-cased\")\n",
    "# model = transformers.DistilBertTokenizerFast.from_pretrained(\"distilbert-base-multilingual-cased\")\n",
    "model = DistilBERT(args.hidden_size, args.num_labels,\n",
    "                           drop_prob=args.drop_prob,\n",
    "                           freeze=args.freeze,\n",
    "                           use_img=args.use_img,\n",
    "                           img_size=args.img_size)\n",
    "\n",
    "# load local model\n",
    "ckpt_dir = 'DistilBERT-01'\n",
    "ckpt_path = os.path.join(args.save_dir, 'train', ckpt_dir, 'best.pth.tar')\n",
    "ckpt_dict = torch.load(ckpt_path)\n",
    "model.load_state_dict(ckpt_dict['model_state'], False)\n",
    "\n",
    "\n",
    "def get_data_loader(args, record_file):\n",
    "    transform = transforms.Compose([transforms.Resize((224, 224)),\n",
    "                                    transforms.ToTensor(),\n",
    "                                    transforms.Normalize(mean=[0.485, 0.456, 0.406],\n",
    "                                                         std=[0.229, 0.224, 0.225])])\n",
    "    dataset = NEWS(record_file, transform=transform)\n",
    "    data_loader = data.DataLoader(dataset,\n",
    "                                  batch_size=args.batch_size,\n",
    "                                  shuffle=False,\n",
    "                                  num_workers=args.num_workers,\n",
    "                                  collate_fn=collate_fn)\n",
    "    \n",
    "    return data_loader\n",
    "\n",
    "# define a prediction function\n",
    "def f(x):\n",
    "    for input_idxs, atten_masks, y in x:\n",
    "        # print(input_idxs, atten_masks, y)\n",
    "        input_idxs = input_idxs.to(device)\n",
    "        atten_masks = atten_masks.to(device)\n",
    "        y = y.to(device)\n",
    "        log_p = model(input_idxs, atten_masks)\n",
    "        print(log_p)\n",
    "        loss = torch.nn.functional.binary_cross_entropy(log_p, y, weight=None, size_average=None, reduce=None, reduction='sum')\n",
    "        loss_val = loss.item()\n",
    "#         print(loss_val)\n",
    "#         outputs = model(input_idxs, atten_masks)[0].detach().cpu().numpy()\n",
    "#         scores = (np.exp(outputs).T / np.exp(outputs).sum(-1)).T\n",
    "#         val = sp.special.logit(scores[:,1]) # use one vs rest logit units\n",
    "#         return val\n",
    "    # outputs = model(tv)[0].detach().cpu().numpy()\n",
    "    # scores = (np.exp(outputs).T / np.exp(outputs).sum(-1)).T\n",
    "    # val = sp.special.logit(scores[:,1]) # use one vs rest logit units\n",
    "    # return val\n",
    "\n",
    "# explain the model's predictions on IMDB reviews\n",
    "record_file = './data/test.npz'\n",
    "data_loader = get_data_loader(args, record_file)\n",
    "val = f(data_loader)\n",
    "# build an explainer using  a token masker\n",
    "# explainer = shap.Explainer(f, tokenizer)\n",
    "# imdb_train = nlp.load_dataset(\"imdb\")[\"train\"]\n",
    "# shap_values = explainer(data_loader, fixed_context=1)\n",
    "\n",
    "\n",
    "# print(data_loader)\n"
   ]
  },
  {
   "cell_type": "code",
   "execution_count": null,
   "metadata": {},
   "outputs": [],
   "source": []
  },
  {
   "cell_type": "code",
   "execution_count": 8,
   "metadata": {},
   "outputs": [
    {
     "name": "stdout",
     "output_type": "stream",
     "text": [
      ".values =\n",
      "array([-1.83965726e-07,  1.15300380e+00,  1.15300380e+00,  4.06625983e+00,\n",
      "        4.06625983e+00,  1.70656413e-01, -1.60968360e-01, -1.60968360e-01,\n",
      "       -1.60968360e-01, -1.60968360e-01, -1.60968360e-01, -1.60968360e-01,\n",
      "       -1.60968360e-01, -1.60968360e-01, -1.60968360e-01, -2.45287630e-07])\n",
      "\n",
      ".base_values =\n",
      "-0.33786583946352583\n",
      "\n",
      ".data =\n",
      "array(['', 'What ', 'a ', 'great ', 'movie', '! ', '.', '.', '.', 'if ',\n",
      "       'you ', 'have ', 'no ', 'taste', '.', ''], dtype='<U6')\n",
      "<class 'shap._explanation.Explanation'>\n"
     ]
    }
   ],
   "source": [
    "import transformers\n",
    "import shap\n",
    "\n",
    "# load a transformers pipeline model\n",
    "model = transformers.pipeline('sentiment-analysis', return_all_scores=True)\n",
    "\n",
    "# explain the model on two sample inputs\n",
    "explainer = shap.Explainer(model) \n",
    "shap_values = explainer([\"What a great movie! ...if you have no taste.\"])\n",
    "print(shap_values[0, :, \"POSITIVE\"])\n",
    "print(type(shap_values))\n",
    "# visualize the first prediction's explanation for the POSITIVE output class\n",
    "# shap.plots.text(shap_values[0, :, \"POSITIVE\"])"
   ]
  },
  {
   "cell_type": "code",
   "execution_count": null,
   "metadata": {},
   "outputs": [],
   "source": []
  }
 ],
 "metadata": {
  "kernelspec": {
   "display_name": "Python 3",
   "language": "python",
   "name": "python3"
  },
  "language_info": {
   "codemirror_mode": {
    "name": "ipython",
    "version": 3
   },
   "file_extension": ".py",
   "mimetype": "text/x-python",
   "name": "python",
   "nbconvert_exporter": "python",
   "pygments_lexer": "ipython3",
   "version": "3.7.4"
  }
 },
 "nbformat": 4,
 "nbformat_minor": 4
}
